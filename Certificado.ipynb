{
 "cells": [
  {
   "cell_type": "code",
   "execution_count": 1,
   "id": "9cff5c13-3f14-4cb4-a8fd-b6203b297b3e",
   "metadata": {},
   "outputs": [],
   "source": [
    "! pip install docxtpl -q"
   ]
  },
  {
   "cell_type": "code",
   "execution_count": 2,
   "id": "bb68e6ef-8779-4354-afec-ae450d88833c",
   "metadata": {},
   "outputs": [],
   "source": [
    "import pandas as pd\n",
    "from datetime import datetime\n",
    "from docxtpl import DocxTemplate"
   ]
  },
  {
   "cell_type": "code",
   "execution_count": 3,
   "id": "9e39b15b-9d5b-4e97-b325-ae169581aa9f",
   "metadata": {},
   "outputs": [],
   "source": [
    "doc = DocxTemplate(\"Ej 1.docx\")"
   ]
  },
  {
   "cell_type": "code",
   "execution_count": 4,
   "id": "fd5cd434-9bb1-40e3-90c9-c480628bce5e",
   "metadata": {},
   "outputs": [],
   "source": [
    "nombre_profesor = \"Khalid Whistler\"\n",
    "telefono_profesor = \"0414-690-1659\"\n",
    "correo_profesor = \"khalidwhistler.32@gmail.com\"\n",
    "fecha_entrega = datetime.today().strftime(\"%d/%m/%Y\")"
   ]
  },
  {
   "cell_type": "code",
   "execution_count": 5,
   "id": "39f6ce10-d284-41fd-b91e-a1ccfeb06efd",
   "metadata": {},
   "outputs": [
    {
     "name": "stdout",
     "output_type": "stream",
     "text": [
      "04/09/2025\n"
     ]
    }
   ],
   "source": [
    "print(fecha_entrega)"
   ]
  },
  {
   "cell_type": "code",
   "execution_count": 6,
   "id": "55606db7-7bac-43af-b50b-065bee65f6d7",
   "metadata": {},
   "outputs": [],
   "source": [
    "datos_profesor = {\n",
    "    \"nombre_profesor\": nombre_profesor,\n",
    "    \"telefono_profesor\": telefono_profesor,\n",
    "    \"correo_profesor\": correo_profesor,\n",
    "    \"fecha_entrega\": fecha_entrega\n",
    "}"
   ]
  },
  {
   "cell_type": "code",
   "execution_count": 7,
   "id": "bf0f05ad-93a4-432f-96a5-5a77732cdf38",
   "metadata": {},
   "outputs": [],
   "source": [
    "doc.render(datos_profesor)\n",
    "doc.save(f\"Entrega de certificado.docx\")"
   ]
  },
  {
   "cell_type": "code",
   "execution_count": 8,
   "id": "29723473-e013-473b-90c5-63384982408c",
   "metadata": {},
   "outputs": [
    {
     "name": "stdout",
     "output_type": "stream",
     "text": [
      "Defaulting to user installation because normal site-packages is not writeable\n",
      "Looking in links: /usr/share/pip-wheels\n",
      "Requirement already satisfied: openpyxl in /opt/conda/envs/anaconda-ai-2024.04-py310/lib/python3.10/site-packages (3.0.10)\n",
      "Requirement already satisfied: et_xmlfile in /opt/conda/envs/anaconda-ai-2024.04-py310/lib/python3.10/site-packages (from openpyxl) (1.1.0)\n",
      "Note: you may need to restart the kernel to use updated packages.\n"
     ]
    }
   ],
   "source": [
    "%pip install openpyxl\n",
    "df = pd.read_excel(\"Ej 1.xlsx\")"
   ]
  },
  {
   "cell_type": "code",
   "execution_count": 11,
   "id": "dc7d7703-9c05-4dd3-8e8d-4f9b7a44cbba",
   "metadata": {
    "scrolled": true
   },
   "outputs": [
    {
     "data": {
      "text/html": [
       "<div>\n",
       "<style scoped>\n",
       "    .dataframe tbody tr th:only-of-type {\n",
       "        vertical-align: middle;\n",
       "    }\n",
       "\n",
       "    .dataframe tbody tr th {\n",
       "        vertical-align: top;\n",
       "    }\n",
       "\n",
       "    .dataframe thead th {\n",
       "        text-align: right;\n",
       "    }\n",
       "</style>\n",
       "<table border=\"1\" class=\"dataframe\">\n",
       "  <thead>\n",
       "    <tr style=\"text-align: right;\">\n",
       "      <th></th>\n",
       "      <th>Nombre del Alumno</th>\n",
       "      <th>Modulos</th>\n",
       "      <th>Nota General del Curso</th>\n",
       "      <th>Curso</th>\n",
       "      <th>Firma del Profesor</th>\n",
       "    </tr>\n",
       "  </thead>\n",
       "  <tbody>\n",
       "    <tr>\n",
       "      <th>0</th>\n",
       "      <td>Daniel Espitia</td>\n",
       "      <td>3</td>\n",
       "      <td>17</td>\n",
       "      <td>Programacion</td>\n",
       "      <td>Darwin V</td>\n",
       "    </tr>\n",
       "  </tbody>\n",
       "</table>\n",
       "</div>"
      ],
      "text/plain": [
       "  Nombre del Alumno  Modulos  Nota General del Curso         Curso  \\\n",
       "0    Daniel Espitia        3                      17  Programacion   \n",
       "\n",
       "  Firma del Profesor  \n",
       "0           Darwin V  "
      ]
     },
     "execution_count": 11,
     "metadata": {},
     "output_type": "execute_result"
    }
   ],
   "source": [
    "df\n"
   ]
  },
  {
   "cell_type": "code",
   "execution_count": 10,
   "id": "2b4adf19-6ed5-4e61-9ba2-1772bf6c9ae2",
   "metadata": {},
   "outputs": [],
   "source": [
    "for index, row in df.iterrows():\n",
    "    datos_estudiante = {\n",
    "        \"nombre_estudiante\": row[\"Nombre del Alumno\"],\n",
    "        \"numero_modulos\": row[\"Modulos\"],\n",
    "        \"nota_general_curso\": row[\"Nota General del Curso\"],\n",
    "        \"nombre_curso\": row[\"Curso\"],\n",
    "        \"firma_profesor\": row[\"Firma del Profesor\"],\n",
    "    }\n",
    "    \n",
    "    doc.render({**datos_profesor, **datos_estudiante})\n",
    "    doc.save(f\"Entrega de Certificado - {row['Nombre del Alumno']}.docx\")"
   ]
  },
  {
   "cell_type": "code",
   "execution_count": null,
   "id": "67f5f74f-d6f9-4934-9cfd-bdce1163268d",
   "metadata": {},
   "outputs": [],
   "source": []
  }
 ],
 "metadata": {
  "kernelspec": {
   "display_name": "anaconda-ai-2024.04-py310",
   "language": "python",
   "name": "conda-env-anaconda-ai-2024.04-py310-py"
  },
  "language_info": {
   "codemirror_mode": {
    "name": "ipython",
    "version": 3
   },
   "file_extension": ".py",
   "mimetype": "text/x-python",
   "name": "python",
   "nbconvert_exporter": "python",
   "pygments_lexer": "ipython3",
   "version": "3.10.13"
  }
 },
 "nbformat": 4,
 "nbformat_minor": 5
}
